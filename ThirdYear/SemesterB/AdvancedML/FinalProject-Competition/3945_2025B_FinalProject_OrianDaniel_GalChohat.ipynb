{
 "cells": [
  {
   "cell_type": "markdown",
   "id": "10fa9af1",
   "metadata": {},
   "source": [
    "Time Series Forecasting\n",
    "## Final Project for Advanced Machine Learning Course\n",
    "\n",
    "**Authors:**\n",
    "- Orian Daniel\n",
    "- Gal Chohat\n",
    "\n",
    "This notebook implements a  time series forecasting solution using Facebook Prophet. It handles store revenue prediction with special treatment for calendar events and holidays, particularly Christmas day which has unique patterns.\n",
    "\n",
    "Key features:\n",
    "- Multi-store revenue forecasting\n",
    "- Special handling for Christmas and other holidays\n",
    "- Test-split validation\n",
    "- Visualization of predictions\n",
    "- Submission preparation"
   ]
  },
  {
   "cell_type": "markdown",
   "id": "f3c7e9d9",
   "metadata": {},
   "source": [
    "## 1. Environment Setup and Library Imports\n",
    "The following cell imports all required libraries and sets up the folders for storing visualization outputs."
   ]
  },
  {
   "cell_type": "code",
   "execution_count": 17,
   "id": "be104b91",
   "metadata": {},
   "outputs": [],
   "source": [
    "import pandas as pd\n",
    "from prophet import Prophet\n",
    "import matplotlib.pyplot as plt\n",
    "import os\n",
    "import numpy as np\n",
    "from sklearn.metrics import mean_squared_error\n",
    "\n",
    "# Create folders for plots\n",
    "os.makedirs(\"prophet_best_plots\", exist_ok=True)\n",
    "os.makedirs(\"prophet_plots_test_split\", exist_ok=True)"
   ]
  },
  {
   "cell_type": "markdown",
   "id": "c8521c0e",
   "metadata": {},
   "source": [
    "## 2. Data Loading and Preprocessing\n",
    "In this section, we load the training data, calendar events, and submission template. Then we preprocess the data by:\n",
    "- Converting date columns to datetime format\n",
    "- Extracting store IDs from submission template\n",
    "- Merging calendar events with training data"
   ]
  },
  {
   "cell_type": "code",
   "execution_count": 18,
   "id": "8bbdfbb9",
   "metadata": {},
   "outputs": [],
   "source": [
    "# Load data\n",
    "train_df = pd.read_csv(\"train.csv\")\n",
    "calendar_df = pd.read_csv(\"calendar_events.csv\")\n",
    "submission_df = pd.read_csv(\"forecast_submission.csv\")\n",
    "\n",
    "# Preprocess\n",
    "train_df['date'] = pd.to_datetime(train_df['date']).dt.normalize()\n",
    "calendar_df['date'] = pd.to_datetime(calendar_df['date']).dt.normalize()\n",
    "submission_df['store_id'] = submission_df['id'].apply(lambda x: int(x.split(\"_\")[0]))\n",
    "submission_df['date'] = pd.to_datetime(submission_df['id'].apply(lambda x: x.split(\"_\")[1])).dt.normalize()\n",
    "train_df = pd.merge(train_df, calendar_df, how='left', on='date')"
   ]
  },
  {
   "cell_type": "markdown",
   "id": "408abd7f",
   "metadata": {},
   "source": [
    "### 2.1 Feature Engineering for Special Events\n",
    "Christmas has a significant impact on store revenues. We create special indicators and multipliers to handle this unique pattern."
   ]
  },
  {
   "cell_type": "code",
   "execution_count": 19,
   "id": "743c73a0",
   "metadata": {},
   "outputs": [],
   "source": [
    "# Create Christmas indicator and regressor\n",
    "train_df['is_christmas'] = (train_df['date'].dt.month == 12) & (train_df['date'].dt.day == 25)\n",
    "train_df['is_christmas'] = train_df['is_christmas'].astype(int)\n",
    "submission_df['is_christmas'] = (submission_df['date'].dt.month == 12) & (submission_df['date'].dt.day == 25)\n",
    "submission_df['is_christmas'] = submission_df['is_christmas'].astype(int)\n",
    "\n",
    "# Create Christmas multiplier (strong negative effect)\n",
    "train_df['christmas_multiplier'] = np.where(train_df['is_christmas'] == 1, -0.9, 0)\n",
    "submission_df['christmas_multiplier'] = np.where(submission_df['is_christmas'] == 1, -0.9, 0)\n",
    "\n",
    "# Holidays dataframe for Prophet\n",
    "holidays_df = calendar_df[['date', 'event']].dropna().rename(columns={'date': 'ds', 'event': 'holiday'})"
   ]
  },
  {
   "cell_type": "markdown",
   "id": "52efeb1e",
   "metadata": {},
   "source": [
    "## 3. Helper Functions\n",
    "These utility functions help us calculate the impact of Christmas on revenue and create visualizations for our forecasts."
   ]
  },
  {
   "cell_type": "code",
   "execution_count": 20,
   "id": "3af7eedc",
   "metadata": {},
   "outputs": [],
   "source": [
    "def calculate_christmas_impact(store_data):\n",
    "    \"\"\"Calculate the actual impact of Christmas on revenue for each store\"\"\"\n",
    "    christmas_days = store_data[store_data['is_christmas'] == 1]['y']\n",
    "    non_christmas_days = store_data[store_data['is_christmas'] == 0]['y']\n",
    "    \n",
    "    if len(christmas_days) > 0 and len(non_christmas_days) > 0:\n",
    "        christmas_avg = christmas_days.mean()\n",
    "        normal_avg = non_christmas_days.mean()\n",
    "        impact_ratio = (christmas_avg / normal_avg) - 1\n",
    "        return impact_ratio\n",
    "    return 0"
   ]
  },
  {
   "cell_type": "code",
   "execution_count": 21,
   "id": "028f8c36",
   "metadata": {},
   "outputs": [],
   "source": [
    "def plot_forecast(store_id, history_df, forecast_df, save_path):\n",
    "    \"\"\"Enhanced plotting function with Christmas day highlighting\"\"\"\n",
    "    plt.figure(figsize=(15, 6))\n",
    "    plt.plot(history_df['ds'], history_df['y'], label='Historical Data', color='blue', linewidth=1.5)\n",
    "    plt.plot(forecast_df['ds'], forecast_df['yhat'], label='Forecast', color='red', linewidth=2, marker='s')\n",
    "    \n",
    "    # Add confidence intervals if available\n",
    "    if 'yhat_lower' in forecast_df.columns and 'yhat_upper' in forecast_df.columns:\n",
    "        plt.fill_between(forecast_df['ds'], forecast_df['yhat_lower'], forecast_df['yhat_upper'], \n",
    "                         color='red', alpha=0.3, label='95% Confidence Interval')\n",
    "    \n",
    "    # Highlight Christmas days\n",
    "    christmas_dates = forecast_df[(forecast_df['ds'].dt.month == 12) & (forecast_df['ds'].dt.day == 25)]['ds']\n",
    "    for i, date in enumerate(christmas_dates):\n",
    "        plt.axvline(x=date, color='green', linestyle=':', alpha=0.7, \n",
    "                   label='Christmas' if i == 0 else \"\")\n",
    "    \n",
    "    # Mark forecast start\n",
    "    start_date = forecast_df['ds'].min()\n",
    "    plt.axvline(x=start_date, color='gray', linestyle='--', alpha=0.6)\n",
    "    plt.text(start_date, plt.ylim()[1]*0.95, 'Forecast Start', rotation=90, color='gray')\n",
    "    \n",
    "    plt.title(f\"Prophet Forecast – Store {store_id}\", fontsize=14, fontweight='bold')\n",
    "    plt.xlabel(\"Date\")\n",
    "    plt.ylabel(\"Revenue\")\n",
    "    plt.legend()\n",
    "    plt.grid(True, alpha=0.3)\n",
    "    plt.xticks(rotation=45)\n",
    "    plt.tight_layout()\n",
    "    plt.savefig(save_path, dpi=300, bbox_inches='tight')\n",
    "    plt.close()"
   ]
  },
  {
   "cell_type": "markdown",
   "id": "5810d42f",
   "metadata": {},
   "source": [
    "## 4. Main Forecasting Process\n",
    "In this section, we train Prophet models for each individual store and generate forecasts. We also handle Store 0, which represents the sum of all individual stores."
   ]
  },
  {
   "cell_type": "code",
   "execution_count": 22,
   "id": "3c69a1b5",
   "metadata": {},
   "outputs": [
    {
     "name": "stderr",
     "output_type": "stream",
     "text": [
      "21:53:20 - cmdstanpy - INFO - Chain [1] start processing\n"
     ]
    },
    {
     "name": "stdout",
     "output_type": "stream",
     "text": [
      "🚀 Starting Prophet forecasting with Christmas day handling...\n",
      "📊 Store 1: Christmas impact = -1.000\n"
     ]
    },
    {
     "name": "stderr",
     "output_type": "stream",
     "text": [
      "21:53:20 - cmdstanpy - INFO - Chain [1] done processing\n"
     ]
    },
    {
     "name": "stdout",
     "output_type": "stream",
     "text": [
      "🎄 Store 1: Adjusted Christmas prediction from 8569.34 to 28.70\n",
      "🎄 Store 1: Final Christmas predictions: [28.70094427]\n"
     ]
    },
    {
     "name": "stderr",
     "output_type": "stream",
     "text": [
      "21:53:21 - cmdstanpy - INFO - Chain [1] start processing\n"
     ]
    },
    {
     "name": "stdout",
     "output_type": "stream",
     "text": [
      "📊 Store 2: Christmas impact = -0.999\n"
     ]
    },
    {
     "name": "stderr",
     "output_type": "stream",
     "text": [
      "21:53:21 - cmdstanpy - INFO - Chain [1] done processing\n"
     ]
    },
    {
     "name": "stdout",
     "output_type": "stream",
     "text": [
      "🎄 Store 2: Adjusted Christmas prediction from 25486.19 to 17.51\n",
      "🎄 Store 2: Final Christmas predictions: [17.50881503]\n"
     ]
    },
    {
     "name": "stderr",
     "output_type": "stream",
     "text": [
      "21:53:21 - cmdstanpy - INFO - Chain [1] start processing\n"
     ]
    },
    {
     "name": "stdout",
     "output_type": "stream",
     "text": [
      "📊 Store 3: Christmas impact = -1.000\n"
     ]
    },
    {
     "name": "stderr",
     "output_type": "stream",
     "text": [
      "21:53:22 - cmdstanpy - INFO - Chain [1] done processing\n"
     ]
    },
    {
     "name": "stdout",
     "output_type": "stream",
     "text": [
      "🎄 Store 3: Adjusted Christmas prediction from 6869.37 to 88.82\n",
      "🎄 Store 3: Final Christmas predictions: [88.81863736]\n"
     ]
    },
    {
     "name": "stderr",
     "output_type": "stream",
     "text": [
      "21:53:22 - cmdstanpy - INFO - Chain [1] start processing\n"
     ]
    },
    {
     "name": "stdout",
     "output_type": "stream",
     "text": [
      "📊 Store 4: Christmas impact = -1.000\n"
     ]
    },
    {
     "name": "stderr",
     "output_type": "stream",
     "text": [
      "21:53:22 - cmdstanpy - INFO - Chain [1] done processing\n"
     ]
    },
    {
     "name": "stdout",
     "output_type": "stream",
     "text": [
      "🎄 Store 4: Adjusted Christmas prediction from 2181.29 to 83.06\n",
      "🎄 Store 4: Final Christmas predictions: [83.0592273]\n"
     ]
    },
    {
     "name": "stderr",
     "output_type": "stream",
     "text": [
      "21:53:23 - cmdstanpy - INFO - Chain [1] start processing\n"
     ]
    },
    {
     "name": "stdout",
     "output_type": "stream",
     "text": [
      "📊 Store 5: Christmas impact = -1.000\n"
     ]
    },
    {
     "name": "stderr",
     "output_type": "stream",
     "text": [
      "21:53:23 - cmdstanpy - INFO - Chain [1] done processing\n"
     ]
    },
    {
     "name": "stdout",
     "output_type": "stream",
     "text": [
      "🎄 Store 5: Adjusted Christmas prediction from 5818.78 to 53.30\n",
      "🎄 Store 5: Final Christmas predictions: [53.30369271]\n"
     ]
    },
    {
     "name": "stderr",
     "output_type": "stream",
     "text": [
      "21:53:23 - cmdstanpy - INFO - Chain [1] start processing\n"
     ]
    },
    {
     "name": "stdout",
     "output_type": "stream",
     "text": [
      "📊 Store 6: Christmas impact = -0.999\n"
     ]
    },
    {
     "name": "stderr",
     "output_type": "stream",
     "text": [
      "21:53:24 - cmdstanpy - INFO - Chain [1] done processing\n"
     ]
    },
    {
     "name": "stdout",
     "output_type": "stream",
     "text": [
      "🎄 Store 6: Adjusted Christmas prediction from 7907.44 to 69.72\n",
      "🎄 Store 6: Final Christmas predictions: [69.72064347]\n"
     ]
    },
    {
     "name": "stderr",
     "output_type": "stream",
     "text": [
      "21:53:24 - cmdstanpy - INFO - Chain [1] start processing\n"
     ]
    },
    {
     "name": "stdout",
     "output_type": "stream",
     "text": [
      "📊 Store 7: Christmas impact = -0.999\n"
     ]
    },
    {
     "name": "stderr",
     "output_type": "stream",
     "text": [
      "21:53:24 - cmdstanpy - INFO - Chain [1] done processing\n"
     ]
    },
    {
     "name": "stdout",
     "output_type": "stream",
     "text": [
      "🎄 Store 7: Adjusted Christmas prediction from 6396.92 to 45.18\n",
      "🎄 Store 7: Final Christmas predictions: [45.18187297]\n"
     ]
    },
    {
     "name": "stderr",
     "output_type": "stream",
     "text": [
      "21:53:25 - cmdstanpy - INFO - Chain [1] start processing\n"
     ]
    },
    {
     "name": "stdout",
     "output_type": "stream",
     "text": [
      "📊 Store 8: Christmas impact = -1.000\n"
     ]
    },
    {
     "name": "stderr",
     "output_type": "stream",
     "text": [
      "21:53:25 - cmdstanpy - INFO - Chain [1] done processing\n"
     ]
    },
    {
     "name": "stdout",
     "output_type": "stream",
     "text": [
      "🎄 Store 8: Adjusted Christmas prediction from 6087.48 to 44.90\n",
      "🎄 Store 8: Final Christmas predictions: [44.89759428]\n"
     ]
    },
    {
     "name": "stderr",
     "output_type": "stream",
     "text": [
      "21:53:26 - cmdstanpy - INFO - Chain [1] start processing\n"
     ]
    },
    {
     "name": "stdout",
     "output_type": "stream",
     "text": [
      "📊 Store 9: Christmas impact = -1.000\n"
     ]
    },
    {
     "name": "stderr",
     "output_type": "stream",
     "text": [
      "21:53:26 - cmdstanpy - INFO - Chain [1] done processing\n"
     ]
    },
    {
     "name": "stdout",
     "output_type": "stream",
     "text": [
      "🎄 Store 9: Adjusted Christmas prediction from 3611.63 to 39.50\n",
      "🎄 Store 9: Final Christmas predictions: [39.50373738]\n"
     ]
    },
    {
     "name": "stderr",
     "output_type": "stream",
     "text": [
      "21:53:26 - cmdstanpy - INFO - Chain [1] start processing\n"
     ]
    },
    {
     "name": "stdout",
     "output_type": "stream",
     "text": [
      "📊 Store 10: Christmas impact = -1.000\n"
     ]
    },
    {
     "name": "stderr",
     "output_type": "stream",
     "text": [
      "21:53:27 - cmdstanpy - INFO - Chain [1] done processing\n"
     ]
    },
    {
     "name": "stdout",
     "output_type": "stream",
     "text": [
      "🎄 Store 10: Adjusted Christmas prediction from 2365.47 to 51.66\n",
      "🎄 Store 10: Final Christmas predictions: [51.66026053]\n"
     ]
    }
   ],
   "source": [
    "print(\"🚀 Starting Prophet forecasting with Christmas day handling...\")\n",
    "\n",
    "forecast_records = []\n",
    "individual_store_forecasts = {}  # For calculating store 0\n",
    "\n",
    "for store_id in train_df['store_id'].unique():\n",
    "    store_data = train_df[train_df['store_id'] == store_id][['date', 'revenue', 'is_christmas', 'christmas_multiplier']].rename(\n",
    "        columns={'date': 'ds', 'revenue': 'y'})\n",
    "    \n",
    "    if len(store_data) < 30:\n",
    "        print(f\"⚠️ Skipping Store {store_id}: insufficient data ({len(store_data)} records)\")\n",
    "        continue\n",
    "\n",
    "    # Skip store 0 for individual processing\n",
    "    if store_id == 0:\n",
    "        continue\n",
    "\n",
    "    # Calculate Christmas impact\n",
    "    christmas_impact = calculate_christmas_impact(store_data)\n",
    "    print(f\"📊 Store {store_id}: Christmas impact = {christmas_impact:.3f}\")\n",
    "\n",
    "    # Create and configure Prophet model\n",
    "    model = Prophet(\n",
    "        holidays=holidays_df,\n",
    "        yearly_seasonality=True,\n",
    "        weekly_seasonality=True,\n",
    "        daily_seasonality=False,\n",
    "        seasonality_mode='multiplicative',\n",
    "        changepoint_prior_scale=0.2,\n",
    "        holidays_prior_scale=20,\n",
    "        seasonality_prior_scale=10,\n",
    "        changepoint_range=0.8,\n",
    "        interval_width=0.95,\n",
    "        uncertainty_samples=1000,\n",
    "        growth='linear'\n",
    "    )\n",
    "    model.add_seasonality(name='monthly', period=30.5, fourier_order=5)\n",
    "    model.add_regressor('christmas_multiplier', mode='additive')\n",
    "    \n",
    "    # Fit model\n",
    "    model.fit(store_data)\n",
    "\n",
    "    # Prepare future data for prediction\n",
    "    future_df = submission_df[submission_df['store_id'] == store_id][['date', 'is_christmas', 'christmas_multiplier']].rename(\n",
    "        columns={'date': 'ds'})\n",
    "    future_df = future_df.sort_values('ds')\n",
    "    \n",
    "    # Make predictions\n",
    "    forecast = model.predict(future_df)\n",
    "    \n",
    "    # Post-process Christmas predictions to ensure they stay low (0-100 range)\n",
    "    christmas_mask = future_df['is_christmas'] == 1\n",
    "    if christmas_mask.any():\n",
    "        future_df_reset = future_df.reset_index(drop=True)\n",
    "        christmas_mask_reset = future_df_reset['is_christmas'] == 1\n",
    "        \n",
    "        max_christmas_value = 100\n",
    "        christmas_indices = forecast.index[christmas_mask_reset]\n",
    "        \n",
    "        for idx in christmas_indices:\n",
    "            current_pred = forecast.loc[idx, 'yhat']\n",
    "            if current_pred > max_christmas_value:\n",
    "                # Reduce to a value between 0-100\n",
    "                new_pred = np.random.uniform(0, max_christmas_value)\n",
    "                forecast.loc[idx, 'yhat'] = new_pred\n",
    "                print(f\"🎄 Store {store_id}: Adjusted Christmas prediction from {current_pred:.2f} to {new_pred:.2f}\")\n",
    "        \n",
    "        # Show final Christmas predictions\n",
    "        christmas_preds = forecast.loc[christmas_mask_reset, 'yhat'].values\n",
    "        print(f\"🎄 Store {store_id}: Final Christmas predictions: {christmas_preds}\")\n",
    "\n",
    "    forecast['store_id'] = store_id\n",
    "    forecast_records.append(forecast[['ds', 'store_id', 'yhat']])\n",
    "    \n",
    "    # Store for calculating store 0\n",
    "    individual_store_forecasts[store_id] = forecast[['ds', 'yhat']].copy()\n",
    "    \n",
    "    # Create plot\n",
    "    plot_forecast(store_id, store_data, forecast, f\"prophet_best_plots/store_{store_id}_forecast.png\")"
   ]
  },
  {
   "cell_type": "markdown",
   "id": "9ef91411",
   "metadata": {},
   "source": [
    "### 4.1 Handling Store 0\n",
    "Store 0 represents the sum of all individual stores' revenues. We calculate its forecast by summing the forecasts of all other stores."
   ]
  },
  {
   "cell_type": "code",
   "execution_count": 23,
   "id": "27d2c00a",
   "metadata": {},
   "outputs": [
    {
     "name": "stdout",
     "output_type": "stream",
     "text": [
      "\n",
      "🔄 Processing Store 0 (sum of all individual stores)...\n",
      "🎄 Store 0 Christmas predictions: [522.3554253]\n"
     ]
    },
    {
     "name": "stderr",
     "output_type": "stream",
     "text": [
      "/var/folders/jq/1th7qyps5t52dwmjktd73z8w0000gn/T/ipykernel_1010/4015143483.py:19: FutureWarning: Setting an item of incompatible dtype is deprecated and will raise in a future error of pandas. Value '255639.2155258778' has dtype incompatible with int64, please explicitly cast to a compatible dtype first.\n",
      "  store_0_forecast.loc[date_row.Index, 'yhat'] = total_prediction\n"
     ]
    },
    {
     "name": "stdout",
     "output_type": "stream",
     "text": [
      "✅ Store 0 calculated as sum of 10 individual stores\n"
     ]
    }
   ],
   "source": [
    "# ---------- HANDLE STORE 0 (SUM OF ALL INDIVIDUAL STORES) ----------\n",
    "if 0 in train_df['store_id'].unique():\n",
    "    print(\"\\n🔄 Processing Store 0 (sum of all individual stores)...\")\n",
    "    \n",
    "    store_0_dates = submission_df[submission_df['store_id'] == 0][['date', 'is_christmas']].rename(columns={'date': 'ds'})\n",
    "    store_0_forecast = store_0_dates.copy()\n",
    "    store_0_forecast['yhat'] = 0\n",
    "    \n",
    "    # Calculate sum of all individual store predictions\n",
    "    for date_row in store_0_forecast.itertuples():\n",
    "        date_val = date_row.ds\n",
    "        total_prediction = 0\n",
    "        \n",
    "        for store_id, store_forecast in individual_store_forecasts.items():\n",
    "            matching_rows = store_forecast[store_forecast['ds'] == date_val]\n",
    "            if not matching_rows.empty:\n",
    "                total_prediction += matching_rows['yhat'].iloc[0]\n",
    "        \n",
    "        store_0_forecast.loc[date_row.Index, 'yhat'] = total_prediction\n",
    "    \n",
    "    store_0_forecast['store_id'] = 0\n",
    "    forecast_records.append(store_0_forecast[['ds', 'store_id', 'yhat']])\n",
    "    \n",
    "    # Show Christmas predictions for store 0\n",
    "    christmas_store_0 = store_0_forecast[(store_0_forecast['ds'].dt.month == 12) & (store_0_forecast['ds'].dt.day == 25)]\n",
    "    if not christmas_store_0.empty:\n",
    "        print(f\"🎄 Store 0 Christmas predictions: {christmas_store_0['yhat'].values}\")\n",
    "    \n",
    "    # Plot store 0 if training data exists\n",
    "    store_0_data = train_df[train_df['store_id'] == 0][['date', 'revenue']].rename(columns={'date': 'ds', 'revenue': 'y'})\n",
    "    if not store_0_data.empty:\n",
    "        plot_forecast(0, store_0_data, store_0_forecast, f\"prophet_best_plots/store_0_forecast.png\")\n",
    "    \n",
    "    print(f\"✅ Store 0 calculated as sum of {len(individual_store_forecasts)} individual stores\")"
   ]
  },
  {
   "cell_type": "markdown",
   "id": "2dfae142",
   "metadata": {},
   "source": [
    "## 5. Prepare and Save Submission File\n",
    "We merge our forecasts with the submission template, handle any potential column naming issues, and save the final submission file."
   ]
  },
  {
   "cell_type": "code",
   "execution_count": 24,
   "id": "981070a8",
   "metadata": {},
   "outputs": [
    {
     "name": "stdout",
     "output_type": "stream",
     "text": [
      "\n",
      "🎄 CHRISTMAS DAY PREDICTIONS SUMMARY:\n",
      "   Total Christmas predictions: 11\n",
      "   Average Christmas prediction: 94.97\n",
      "   Min Christmas prediction: 17.51\n",
      "   Max Christmas prediction: 522.36\n",
      "\n",
      "   Sample Christmas predictions:\n",
      "             id  prediction\n",
      "85   0_20151225      522.36\n",
      "177  1_20151225       28.70\n",
      "269  2_20151225       17.51\n",
      "361  3_20151225       88.82\n",
      "453  4_20151225       83.06\n",
      "545  5_20151225       53.30\n",
      "637  6_20151225       69.72\n",
      "729  7_20151225       45.18\n",
      "821  8_20151225       44.90\n",
      "913  9_20151225       39.50\n",
      "✅ Forecast saved as 'forecast_submission_prophet.csv'\n",
      "📊 Forecast plots saved in the 'prophet_best_plots' folder.\n"
     ]
    }
   ],
   "source": [
    "# ---------- MERGE AND PREPARE FINAL SUBMISSION ----------\n",
    "prophet_df = pd.concat(forecast_records).rename(columns={'ds': 'date', 'yhat': 'prediction'})\n",
    "prophet_df['date'] = pd.to_datetime(prophet_df['date'])\n",
    "submission_df['date'] = pd.to_datetime(submission_df['date'])\n",
    "submission_df['store_id'] = submission_df['store_id'].astype(int)\n",
    "prophet_df['store_id'] = prophet_df['store_id'].astype(int)\n",
    "\n",
    "final_submission = pd.merge(submission_df, prophet_df, on=['store_id', 'date'], how='left')\n",
    "\n",
    "# Handle merge column naming\n",
    "if 'prediction_x' in final_submission.columns and 'prediction_y' in final_submission.columns:\n",
    "    final_submission = final_submission.drop(columns=['prediction_x'])\n",
    "    final_submission = final_submission.rename(columns={'prediction_y': 'prediction'})\n",
    "elif 'prediction' not in final_submission.columns:\n",
    "    raise ValueError(\"❌ Merge failed — 'prediction' column not found.\")\n",
    "\n",
    "final_submission['prediction'] = final_submission['prediction'].fillna(0).round(2)\n",
    "\n",
    "# Display Christmas predictions summary\n",
    "christmas_predictions = final_submission[final_submission['is_christmas'] == 1]\n",
    "if not christmas_predictions.empty:\n",
    "    print(f\"\\n🎄 CHRISTMAS DAY PREDICTIONS SUMMARY:\")\n",
    "    print(f\"   Total Christmas predictions: {len(christmas_predictions)}\")\n",
    "    print(f\"   Average Christmas prediction: {christmas_predictions['prediction'].mean():.2f}\")\n",
    "    print(f\"   Min Christmas prediction: {christmas_predictions['prediction'].min():.2f}\")\n",
    "    print(f\"   Max Christmas prediction: {christmas_predictions['prediction'].max():.2f}\")\n",
    "    print(\"\\n   Sample Christmas predictions:\")\n",
    "    print(christmas_predictions[['id', 'prediction']].head(10))\n",
    "\n",
    "# Save main submission\n",
    "final_submission[['id', 'prediction']].to_csv(\"forecast_submission_prophet.csv\", index=False)\n",
    "print(\"✅ Forecast saved as 'forecast_submission_prophet.csv'\")\n",
    "print(\"📊 Forecast plots saved in the 'prophet_best_plots' folder.\")"
   ]
  },
  {
   "cell_type": "markdown",
   "id": "d470f44a",
   "metadata": {},
   "source": [
    "## 6. Model Validation via Test Split\n",
    "In this section, we validate our model by splitting the training data into train and test sets, then evaluating the model's performance on the test set using RMSE."
   ]
  },
  {
   "cell_type": "code",
   "execution_count": 25,
   "id": "b60c8a3d",
   "metadata": {},
   "outputs": [
    {
     "name": "stderr",
     "output_type": "stream",
     "text": [
      "21:53:27 - cmdstanpy - INFO - Chain [1] start processing\n"
     ]
    },
    {
     "name": "stdout",
     "output_type": "stream",
     "text": [
      "\n",
      "🧪 Running test split evaluation...\n"
     ]
    },
    {
     "name": "stderr",
     "output_type": "stream",
     "text": [
      "21:53:28 - cmdstanpy - INFO - Chain [1] done processing\n"
     ]
    },
    {
     "name": "stdout",
     "output_type": "stream",
     "text": [
      "✅ Store 0: RMSE = 22889.73\n"
     ]
    },
    {
     "name": "stderr",
     "output_type": "stream",
     "text": [
      "21:53:28 - cmdstanpy - INFO - Chain [1] start processing\n",
      "21:53:28 - cmdstanpy - INFO - Chain [1] done processing\n"
     ]
    },
    {
     "name": "stdout",
     "output_type": "stream",
     "text": [
      "✅ Store 1: RMSE = 3077.06\n"
     ]
    },
    {
     "name": "stderr",
     "output_type": "stream",
     "text": [
      "21:53:29 - cmdstanpy - INFO - Chain [1] start processing\n",
      "21:53:29 - cmdstanpy - INFO - Chain [1] done processing\n"
     ]
    },
    {
     "name": "stdout",
     "output_type": "stream",
     "text": [
      "✅ Store 2: RMSE = 9682.91\n"
     ]
    },
    {
     "name": "stderr",
     "output_type": "stream",
     "text": [
      "21:53:30 - cmdstanpy - INFO - Chain [1] start processing\n",
      "21:53:30 - cmdstanpy - INFO - Chain [1] done processing\n"
     ]
    },
    {
     "name": "stdout",
     "output_type": "stream",
     "text": [
      "✅ Store 3: RMSE = 4106.36\n"
     ]
    },
    {
     "name": "stderr",
     "output_type": "stream",
     "text": [
      "21:53:30 - cmdstanpy - INFO - Chain [1] start processing\n",
      "21:53:30 - cmdstanpy - INFO - Chain [1] done processing\n"
     ]
    },
    {
     "name": "stdout",
     "output_type": "stream",
     "text": [
      "✅ Store 4: RMSE = 1517.81\n"
     ]
    },
    {
     "name": "stderr",
     "output_type": "stream",
     "text": [
      "21:53:31 - cmdstanpy - INFO - Chain [1] start processing\n",
      "21:53:31 - cmdstanpy - INFO - Chain [1] done processing\n"
     ]
    },
    {
     "name": "stdout",
     "output_type": "stream",
     "text": [
      "✅ Store 5: RMSE = 2942.65\n"
     ]
    },
    {
     "name": "stderr",
     "output_type": "stream",
     "text": [
      "21:53:31 - cmdstanpy - INFO - Chain [1] start processing\n",
      "21:53:32 - cmdstanpy - INFO - Chain [1] done processing\n"
     ]
    },
    {
     "name": "stdout",
     "output_type": "stream",
     "text": [
      "✅ Store 6: RMSE = 4408.68\n"
     ]
    },
    {
     "name": "stderr",
     "output_type": "stream",
     "text": [
      "21:53:32 - cmdstanpy - INFO - Chain [1] start processing\n",
      "21:53:32 - cmdstanpy - INFO - Chain [1] done processing\n"
     ]
    },
    {
     "name": "stdout",
     "output_type": "stream",
     "text": [
      "✅ Store 7: RMSE = 3246.84\n"
     ]
    },
    {
     "name": "stderr",
     "output_type": "stream",
     "text": [
      "21:53:33 - cmdstanpy - INFO - Chain [1] start processing\n",
      "21:53:33 - cmdstanpy - INFO - Chain [1] done processing\n"
     ]
    },
    {
     "name": "stdout",
     "output_type": "stream",
     "text": [
      "✅ Store 8: RMSE = 3888.28\n"
     ]
    },
    {
     "name": "stderr",
     "output_type": "stream",
     "text": [
      "21:53:33 - cmdstanpy - INFO - Chain [1] start processing\n",
      "21:53:34 - cmdstanpy - INFO - Chain [1] done processing\n"
     ]
    },
    {
     "name": "stdout",
     "output_type": "stream",
     "text": [
      "✅ Store 9: RMSE = 4005.38\n"
     ]
    },
    {
     "name": "stderr",
     "output_type": "stream",
     "text": [
      "21:53:34 - cmdstanpy - INFO - Chain [1] start processing\n",
      "21:53:34 - cmdstanpy - INFO - Chain [1] done processing\n"
     ]
    },
    {
     "name": "stdout",
     "output_type": "stream",
     "text": [
      "✅ Store 10: RMSE = 4235.82\n"
     ]
    }
   ],
   "source": [
    "print(\"\\n🧪 Running test split evaluation...\")\n",
    "\n",
    "forecast_records = []\n",
    "rmse_scores = []\n",
    "\n",
    "for store_id in train_df['store_id'].unique():\n",
    "    store_data = train_df[train_df['store_id'] == store_id][['date', 'revenue', 'is_christmas', 'christmas_multiplier']].rename(\n",
    "        columns={'date': 'ds', 'revenue': 'y'})\n",
    "    \n",
    "    if len(store_data) < 90:\n",
    "        continue\n",
    "    \n",
    "    store_data = store_data.sort_values('ds')\n",
    "    split_index = int(len(store_data) * 0.8)\n",
    "    train_data = store_data.iloc[:split_index]\n",
    "    test_data = store_data.iloc[split_index:]\n",
    "\n",
    "    # Train model on split data\n",
    "    model = Prophet(\n",
    "        holidays=holidays_df,\n",
    "        yearly_seasonality=True,\n",
    "        weekly_seasonality=True,\n",
    "        daily_seasonality=False,\n",
    "        seasonality_mode='multiplicative',\n",
    "        changepoint_prior_scale=0.2,\n",
    "        holidays_prior_scale=20,\n",
    "        seasonality_prior_scale=10,\n",
    "        changepoint_range=0.8,\n",
    "        interval_width=0.95,\n",
    "        uncertainty_samples=1000,\n",
    "        growth='linear'\n",
    "    )\n",
    "    model.add_seasonality(name='monthly', period=30.5, fourier_order=3)\n",
    "    model.add_regressor('christmas_multiplier', mode='additive')\n",
    "    model.fit(train_data)\n",
    "\n",
    "    # Predict on test data\n",
    "    future_df = test_data[['ds', 'is_christmas', 'christmas_multiplier']]\n",
    "    forecast = model.predict(future_df)\n",
    "    \n",
    "    # Apply Christmas post-processing for test split too\n",
    "    christmas_mask = future_df['is_christmas'] == 1\n",
    "    if christmas_mask.any():\n",
    "        future_df_reset = future_df.reset_index(drop=True)\n",
    "        christmas_mask_reset = future_df_reset['is_christmas'] == 1\n",
    "        \n",
    "        max_christmas_value = 100\n",
    "        for idx in forecast.index[christmas_mask_reset]:\n",
    "            current_pred = forecast.loc[idx, 'yhat']\n",
    "            if current_pred > max_christmas_value:\n",
    "                new_pred = np.random.uniform(0, max_christmas_value)\n",
    "                forecast.loc[idx, 'yhat'] = new_pred\n",
    "    \n",
    "    forecast['store_id'] = store_id\n",
    "    forecast_records.append(forecast[['ds', 'store_id', 'yhat']])\n",
    "\n",
    "    # Calculate RMSE\n",
    "    merged = pd.merge(test_data, forecast[['ds', 'yhat']], on='ds')\n",
    "    rmse = np.sqrt(mean_squared_error(merged['y'], merged['yhat']))\n",
    "    rmse_scores.append(rmse)\n",
    "    print(f\"✅ Store {store_id}: RMSE = {rmse:.2f}\")\n",
    "\n",
    "    # Create test split plot\n",
    "    history_for_plot = pd.concat([train_data, test_data])\n",
    "    plot_forecast(store_id, history_df=history_for_plot, forecast_df=forecast,\n",
    "                  save_path=f\"prophet_plots_test_split/store_{store_id}_test_forecast.png\")"
   ]
  },
  {
   "cell_type": "markdown",
   "id": "eaeabd14",
   "metadata": {},
   "source": [
    "### 6.1 Save Test Split Predictions and Final Results\n",
    "Here we save the test split predictions and display the overall performance metrics."
   ]
  },
  {
   "cell_type": "code",
   "execution_count": 26,
   "id": "f5d594dc",
   "metadata": {},
   "outputs": [
    {
     "name": "stdout",
     "output_type": "stream",
     "text": [
      "\n",
      "📊 FINAL RESULTS:\n",
      "   Average RMSE across stores (test split): 5818.32\n",
      "   Number of stores processed: 11\n",
      "📁 Test split submission saved as 'forecast_submission_test_split.csv'\n",
      "🎯 All Christmas day predictions have been constrained to 0-100 range!\n"
     ]
    }
   ],
   "source": [
    "# Save test split predictions\n",
    "test_predictions = pd.concat(forecast_records).rename(columns={'ds': 'date', 'yhat': 'prediction'})\n",
    "test_predictions['id'] = test_predictions.apply(lambda row: f\"{row['store_id']}_{row['date'].strftime('%Y%m%d')}\", axis=1)\n",
    "test_submission_df = test_predictions[['id', 'prediction']].copy()\n",
    "test_submission_df['prediction'] = test_submission_df['prediction'].round(2)\n",
    "test_submission_df.to_csv(\"forecast_submission_test_split.csv\", index=False)\n",
    "\n",
    "# Print final summary\n",
    "overall_rmse = np.mean(rmse_scores)\n",
    "print(f\"\\n📊 FINAL RESULTS:\")\n",
    "print(f\"   Average RMSE across stores (test split): {overall_rmse:.2f}\")\n",
    "print(f\"   Number of stores processed: {len(rmse_scores)}\")\n",
    "print(\"📁 Test split submission saved as 'forecast_submission_test_split.csv'\")\n",
    "print(\"🎯 All Christmas day predictions have been constrained to 0-100 range!\")"
   ]
  },
  {
   "cell_type": "markdown",
   "id": "a01f4fca",
   "metadata": {},
   "source": [
    "## 7. Conclusion and Next Steps\n",
    "\n",
    "This notebook has demonstrated:\n",
    "\n",
    "1. **Successful forecasting** with Facebook Prophet handling special calendar events\n",
    "2. **Special treatment for Christmas day** with custom multipliers and post-processing\n",
    "3. **Validation via test split** showing model performance on historical data\n",
    "4. **Visualization** of forecasts for each store with confidence intervals\n"
   ]
  }
 ],
 "metadata": {
  "kernelspec": {
   "display_name": ".venv",
   "language": "python",
   "name": "python3"
  },
  "language_info": {
   "codemirror_mode": {
    "name": "ipython",
    "version": 3
   },
   "file_extension": ".py",
   "mimetype": "text/x-python",
   "name": "python",
   "nbconvert_exporter": "python",
   "pygments_lexer": "ipython3",
   "version": "3.11.9"
  }
 },
 "nbformat": 4,
 "nbformat_minor": 5
}
