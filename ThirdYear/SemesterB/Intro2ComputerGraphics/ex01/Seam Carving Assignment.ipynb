{
 "cells": [
  {
   "attachments": {},
   "cell_type": "markdown",
   "id": "03667782",
   "metadata": {},
   "source": [
    "# Exercise 1\n",
    "\n",
    "As discussed in Section 1, resizing and rescaling digital images are not trivial operations. There are many ways to resize an image, and one of them is Seam Carving.\n",
    "\n",
    "The advantage of this method is the content awareness, which enables resizing images while preserving their visual and semantic features.\n",
    "\n",
    "In this exercise you will:\n",
    "1. Apply image processing operations as preliminares for later\n",
    "2. Implement Seam Carving using a greedy algorithm\n",
    "3. Implement Seam Carving as taught in lecture with dynamic programming ([original Seam Carving paper](https://faculty.runi.ac.il/arik/scweb/imret/imret.pdf))\n",
    "4. Compare the methods in addition to bilinear scaling (no need to implement)\n",
    "\n",
    "\n",
    "Instructions:\n",
    "* The notebook is just for displaying your implementation, **do not change code in it**. Changing it might cause failure of our grading unit tests. If you want to change minor things, make sure the original one still runs and display results.\n",
    "* In `utils.py` we created a template to `SeamImage`,`GreedySeamImage` and `DPSeamImage` which are classes which you will be implementing. Note that if a function does not raise a `NotImplemented` exception, it is not mandatory to implement, it is just a suggestion.\n",
    "* `SeamImage` class is the parent class of the second two. It implements the common functionalities both methods share (the class attributes may help you to manage the metadata of the algorithms).\n",
    "* `SeamImage` takes an image path and:\n",
    "    - Loads an RGB image of the original shape\n",
    "    - Creates a weighted grayscale image and stores it\n",
    "    - Defines and stores all the required metadata for the Seam Carving algorithm\n",
    "    - Track removed seam and later be able to visualize them\n",
    "\n",
    "* `GreedySeamImage` inherits from `SeamImage`. Its purpose is to:\n",
    "    - Apply Vertical Seam Carving algorithm using a greedy approach\n",
    "\n",
    "* `DPSeamImage` inherits from `SeamImage`. Its purpose is to:\n",
    "    - Precompute all of the needed decisions and costs using matrices\n",
    "    - Apply Vertical Seam Carving algorithm using the precomputed matrices\n",
    "\n",
    "* Both methods should use the **forward-looking** cost for their decision making.\n",
    "* To get full credit, **you are expected to implement the following as efficient as possible**, and get similar runtime as we report below\n",
    "* **Tip**: To apply changes from outsides modules into `ipynb` files, restarting the notebook is required when using JIT (will be introduced later). To prevent this, we recommend that you copy here the code and later test it from outside\n",
    "* When submitting, the notebook must run end to end without any exception raised\n",
    "* **IMPORTANT**: Submission format: **ex01_{submitter first name}\\_{submitter last name}\\_{submitter ID}\\_{partner first name}\\_{partner last name}\\_{partner ID}.zip** containing `Seam Carving Assignment.ipynb` (all cells executed from start to end), the *images* folder and your implemented `utils.py`. Please stick to this exact format! Nore that the name must match the **exact names as on your Moodle**.\n",
    "* Feel free to ask questions on Piazza. We also highly encourage you to answer questions (but not share code!).\n",
    "\n",
    "\n",
    "#### After you complete this assignment, you will have a tool to edit any photo you wish.<br>Replace the `img_path` variable, load a photo, edit and upload to your Insta story! \n",
    " ---"
   ]
  },
  {
   "cell_type": "markdown",
   "id": "a4da0be8",
   "metadata": {},
   "source": [
    "Please run the following (install libs if needed) "
   ]
  },
  {
   "cell_type": "code",
   "execution_count": null,
   "id": "a6e68eac",
   "metadata": {
    "ExecuteTime": {
     "end_time": "2025-04-19T09:27:00.777809Z",
     "start_time": "2025-04-19T09:27:00.358331Z"
    }
   },
   "outputs": [],
   "source": [
    "import numpy as np\n",
    "import matplotlib.pyplot as plt\n",
    "from functools import partial\n",
    "from PIL import Image\n",
    "from numba import jit\n",
    "from utils import *\n",
    "\n",
    "%load_ext autoreload\n",
    "%autoreload 2\n",
    "\n",
    "plt.rcParams[\"figure.figsize\"] = (10,5)\n"
   ]
  },
  {
   "cell_type": "code",
   "execution_count": null,
   "id": "f6bfe9e1",
   "metadata": {
    "ExecuteTime": {
     "end_time": "2025-04-19T09:27:00.788012Z",
     "start_time": "2025-04-19T09:27:00.778644Z"
    }
   },
   "outputs": [],
   "source": [
    "img_path = \"images/koala.jpg\"\n",
    "\n",
    "# helper functions\n",
    "def read_image(img_path):\n",
    "    return np.asarray(Image.open(img_path).convert('RGB')).astype('float16')\n",
    "\n",
    "\n",
    "def show_image(np_img, grayscale=False):\n",
    "    fig, ax = plt.subplots()\n",
    "    if not grayscale:\n",
    "        ax.imshow(np_img, aspect='equal')\n",
    "    else:\n",
    "        ax.imshow(np_img, cmap=plt.get_cmap('gray'))\n",
    "    ax.axis(\"off\")\n",
    "    plt.show()\n",
    "\n",
    "\n",
    "def init_plt_grid(nrow=1, ncols=1, figsize=(20,10), **kwargs):\n",
    "    fig, ax = plt.subplots(nrow, ncols, figsize=figsize, facecolor='gray', **kwargs)\n",
    "    font_size = dict(size=20)\n",
    "    return ax, font_size\n",
    "\n",
    "# run this\n",
    "\n",
    "def plot_grid(sc_obj):\n",
    "    ax, font_size = init_plt_grid(ncols=3, figsize=(15,10))\n",
    "\n",
    "    orig_size = sc_obj.rgb.shape[:2]\n",
    "    v_pad = (orig_size[0] - sc_obj.h) // 2\n",
    "    h_pad = (orig_size[1] - sc_obj.w) // 2\n",
    "\n",
    "    padding_width = ((v_pad, v_pad), (h_pad, h_pad), (0, 0))  # This adds 5 rows/columns of zeros on each side of the image\n",
    "    padded_img = np.pad(sc_obj.resized_rgb, padding_width, mode='constant', constant_values=0)\n",
    "\n",
    "    ax[0].set_title('Original Image', **font_size)\n",
    "    ax[1].set_title('Seam Visualization', **font_size)\n",
    "    ax[2].set_title('Resized Image', **font_size)\n",
    "\n",
    "    ax[0].imshow(sc_obj.rgb)\n",
    "    ax[1].imshow(sc_obj.seams_rgb)\n",
    "    ax[2].imshow(padded_img)\n",
    "\n",
    "    # save resized version\n",
    "    Image.fromarray((sc_obj.resized_rgb*255).astype('uint8')).save('./resized_rgb.jpg')\n",
    "\n",
    "    for sp in ax.reshape(-1):\n",
    "        sp.set_xticks([])\n",
    "        sp.set_yticks([])\n",
    "    plt.tight_layout()\n",
    "\n"
   ]
  },
  {
   "cell_type": "markdown",
   "id": "c742ec90",
   "metadata": {},
   "source": [
    "* * *"
   ]
  },
  {
   "cell_type": "markdown",
   "id": "1d8daa72",
   "metadata": {},
   "source": [
    "### 1. Implement basics of SeamImage (20 points)\n",
    "\n",
    "Before starting, you need to have the basics done.\n",
    "\n",
    "In this section, implement the following functions in the `SeamImage` class:\n",
    "\n",
    "1. `SeamImage.rgb_to_grayscale`\n",
    "2. `SeamImage.calc_gradient_magnitude`\n",
    "   "
   ]
  },
  {
   "cell_type": "code",
   "execution_count": null,
   "id": "0dce18ba",
   "metadata": {
    "ExecuteTime": {
     "end_time": "2025-04-19T09:27:00.806248Z",
     "start_time": "2025-04-19T09:27:00.788560Z"
    }
   },
   "outputs": [],
   "source": [
    "# TODO: Create a SeamImage instance\n",
    "s_img = SeamImage(img_path)"
   ]
  },
  {
   "cell_type": "code",
   "execution_count": null,
   "id": "42ec6bd4",
   "metadata": {
    "ExecuteTime": {
     "end_time": "2025-04-19T09:27:00.855128Z",
     "start_time": "2025-04-19T09:27:00.807288Z"
    }
   },
   "outputs": [],
   "source": [
    "# display sample image we will be working on\n",
    "show_image(s_img.rgb)"
   ]
  },
  {
   "cell_type": "markdown",
   "id": "ed2d3359",
   "metadata": {},
   "source": [
    "\n",
    "In this excercise we are going to manipulate this image of a koala."
   ]
  },
  {
   "cell_type": "code",
   "execution_count": null,
   "id": "7613833b",
   "metadata": {
    "ExecuteTime": {
     "end_time": "2025-04-19T09:27:00.903366Z",
     "start_time": "2025-04-19T09:27:00.855622Z"
    }
   },
   "outputs": [],
   "source": [
    "# disply grayscale version\n",
    "show_image(s_img.gs, grayscale=True)"
   ]
  },
  {
   "cell_type": "code",
   "execution_count": null,
   "id": "7d17e8cd",
   "metadata": {
    "ExecuteTime": {
     "end_time": "2025-04-19T09:27:00.951628Z",
     "start_time": "2025-04-19T09:27:00.903871Z"
    }
   },
   "outputs": [],
   "source": [
    "# display its energy (gradient magnitude)\n",
    "show_image(s_img.E, grayscale=True)"
   ]
  },
  {
   "attachments": {},
   "cell_type": "markdown",
   "id": "a2d834eb",
   "metadata": {},
   "source": [
    "### TODO: Implement the GreedySeamImage class (50 points)\n",
    "\n",
    "GreedySeamImage stores an image, and applies vertical Seam Carving. \\\n",
    "This also stores meta data such as: grayscale version, gradient magnitude map, boolean masks indicating if a seam is removed or not, resized versions etc.\n",
    "This class also should support horizontal seam carving by rotating the image, running vertical seam carving, and counter-rotating the image back.\n",
    "\n",
    "\n",
    "Guidelines:\n",
    "* Understand the flow in `SeamImage.seams_removal`\n",
    "* Implement `GreedySeamImage.find_minimal_seam()` to return the minimal energy seam.\n",
    "    * This must be implemented in the *subclass*, not in `SeamImage`, as you will be writing another implementation later.\n",
    "    * The greedy algorithm needs to go row by row and choose the next pixel of the seam on a row-by-row basis.\n",
    "    * Your implementation should not store any additional data aside from what is already stored in the template.\n",
    "* Implement `SeamImage.remove_seam()` which removes a given seam from `GreedySeamImage.find_minimal_seam()`.\n",
    "    * Make sure to also update the visualization with the seam you are removing.\n",
    "* Implement `SeamImage.rotate_mats()`, `SeamImage.seam_removal_vertical()` and `SeamImage.seam_removal_horizontal()`\n",
    "* You are expected to report similar runtime as our implementations.\n",
    "        \n",
    "*Important: In order to get reasonable runtime, use the Numba decorator by uncommenting `@jit(nopython=True)` above `VerticalSeamImage.calc_bt_mat`*"
   ]
  },
  {
   "cell_type": "code",
   "execution_count": null,
   "id": "041ee379",
   "metadata": {
    "ExecuteTime": {
     "end_time": "2025-04-19T09:27:00.971576Z",
     "start_time": "2025-04-19T09:27:00.952217Z"
    }
   },
   "outputs": [],
   "source": [
    "# TODO: Create a VerticalSeamImage class\n",
    "gs_img = GreedySeamImage(img_path=img_path, vis_seams=True)"
   ]
  },
  {
   "cell_type": "code",
   "execution_count": null,
   "id": "27a97888",
   "metadata": {
    "ExecuteTime": {
     "end_time": "2025-04-19T09:27:01.225462Z",
     "start_time": "2025-04-19T09:27:00.972308Z"
    }
   },
   "outputs": [],
   "source": [
    "# display matrices\n",
    "\n",
    "ax, font_size = init_plt_grid(ncols=2)\n",
    "\n",
    "ax[0].set_title('Original Image', **font_size)\n",
    "ax[1].set_title('Gradient Magnitude Image (E)', **font_size)\n",
    "\n",
    "assert gs_img.rgb is not None, \"No RGB image\"\n",
    "assert gs_img.E is not None, \"No energy matrix\"\n",
    "\n",
    "ax[0].imshow(gs_img.rgb)\n",
    "ax[1].imshow(gs_img.E, cmap='gray')\n",
    "\n",
    "for sp in ax.reshape(-1):\n",
    "    sp.set_xticks([])\n",
    "    sp.set_yticks([])\n",
    "\n",
    "plt.tight_layout()"
   ]
  },
  {
   "cell_type": "code",
   "execution_count": null,
   "id": "1a4d079e",
   "metadata": {
    "ExecuteTime": {
     "end_time": "2025-04-19T09:27:01.958767Z",
     "start_time": "2025-04-19T09:27:01.226145Z"
    },
    "scrolled": true
   },
   "outputs": [],
   "source": [
    "# remove seams (modify as you wish, but keep for submission)\n",
    "%time gs_img.seams_removal_vertical(150)\n",
    "%time gs_img.seams_removal_horizontal(50)"
   ]
  },
  {
   "cell_type": "code",
   "execution_count": null,
   "id": "c97f24d7-befa-410f-ae1d-b96b9c856801",
   "metadata": {
    "ExecuteTime": {
     "end_time": "2025-04-19T09:27:02.090376Z",
     "start_time": "2025-04-19T09:27:01.960721Z"
    }
   },
   "outputs": [],
   "source": [
    "plot_grid(gs_img)"
   ]
  },
  {
   "cell_type": "markdown",
   "id": "2ad84961-9333-4615-999a-296bb2110350",
   "metadata": {},
   "source": [
    "Now, the greedy versio of the algorithm works, but it makes a couple of mistakes. For example, it cuts up the tree and the koala's back.\n",
    "\n",
    "\n",
    "The main problem is that it makes a decision on a row-by-row basis, so it may make an optimal choice early on that will create an overall less optimal seam.\n",
    "\n",
    "Therefore, the greedy algorithm does not consider the *overall* cost of a seam. It only considers the cost *per row*.\n",
    "\n",
    "To improve this, the algorithm needs to minimize the cost of the *entire* seam.\n",
    "\n",
    "The trivial approach is to calculate all possible seams, and choose the one with the lowest cost.\n",
    "\n",
    "While this is less efficient, it can be optimized using a trick you have already learned - dynamic programming."
   ]
  },
  {
   "attachments": {},
   "cell_type": "markdown",
   "id": "2baa60cb-d22f-4735-9f7b-1c954fa7fd13",
   "metadata": {},
   "source": [
    "### TODO: Implement the DPSeamImage class (20 points)\n",
    "\n",
    "DPSeamImage implements seam carving using dynamic programming.\n",
    "This also stores meta data such as: grayscale version, gradient magnitude map, boolean masks indicating if a seam is removed or not, resized versions etc.\n",
    "Same as above, this class also should support horizontal seam carving.\n",
    "\n",
    "Guidelines:\n",
    "* Implement the Energy matrix $M$ as guided\n",
    "* `VerticalSeamImage.seams_removal_horizontal` and `VerticalSeamImage.seams_removal_horizontal` are wrappers to `VerticalSeamImage.seams_removal` which is the main method where all the magic happens. This process includes:\n",
    "    * Gradient magnitude of each pixel of self.gs (= self.E)\n",
    "    * Calculating pixel energy as taught, but with certain terms omitted (= self.M)\n",
    "    * iterate for *num_remove* times d:\n",
    "        * Calculate $E$ and $M$ (self.E, self.M respectively)\n",
    "        * Calculate the dynamic programming matrix\n",
    "        * Find the minimal seam\n",
    "        * Remove and update the seam from all metadata matrices\n",
    "* You are expected to report similar runtime as our implementations\n",
    "    * Note that this *will* be slower than the greedy implementation\n",
    "        \n",
    "*Important: In order to get reasonable runtime, use the Numba decorator by uncommenting `@jit(nopython=True)` above `DPSeamImage.calc_bt_mat`*"
   ]
  },
  {
   "cell_type": "code",
   "execution_count": null,
   "id": "8ae17e2f-fbf5-4237-9bdf-bfb645a79872",
   "metadata": {
    "ExecuteTime": {
     "end_time": "2025-04-19T09:27:02.115337Z",
     "start_time": "2025-04-19T09:27:02.090939Z"
    }
   },
   "outputs": [],
   "source": [
    "# Create an instance of the DP algorithm\n",
    "vs_img = DPSeamImage(img_path=img_path, vis_seams=True)"
   ]
  },
  {
   "cell_type": "code",
   "execution_count": null,
   "id": "50a7ff12-812f-48e2-b420-65d65e303160",
   "metadata": {
    "ExecuteTime": {
     "end_time": "2025-04-19T09:27:02.311417Z",
     "start_time": "2025-04-19T09:27:02.116864Z"
    }
   },
   "outputs": [],
   "source": [
    "# display matrices\n",
    "\n",
    "ax, font_size = init_plt_grid(ncols=3)\n",
    "\n",
    "ax[0].set_title('Original Image', **font_size)\n",
    "ax[1].set_title('Gradient Magnitude Image (E)', **font_size)\n",
    "ax[2].set_title('Cost Matrix (M)', **font_size)\n",
    "\n",
    "assert vs_img.rgb is not None, \"No RGB image\"\n",
    "assert vs_img.E is not None, \"No energy matrix\"\n",
    "assert vs_img.M is not None, \"No cost matrix\"\n",
    "\n",
    "ax[0].imshow(vs_img.rgb)\n",
    "ax[1].imshow(vs_img.E, cmap='gray')\n",
    "ax[2].imshow(vs_img.M)\n",
    "\n",
    "for sp in ax.reshape(-1):\n",
    "    sp.set_xticks([])\n",
    "    sp.set_yticks([])\n",
    "\n",
    "plt.tight_layout()"
   ]
  },
  {
   "cell_type": "code",
   "execution_count": null,
   "id": "c7efc3a2-db86-40f9-8d0f-6924591de210",
   "metadata": {
    "ExecuteTime": {
     "end_time": "2025-04-19T09:27:04.724651Z",
     "start_time": "2025-04-19T09:27:02.315626Z"
    },
    "scrolled": true
   },
   "outputs": [],
   "source": [
    "# remove seams (modify as you wish, but keep for submission)\n",
    "%time vs_img.seams_removal_vertical(150)\n",
    "%time vs_img.seams_removal_horizontal(50)"
   ]
  },
  {
   "cell_type": "markdown",
   "id": "2ee92eac834e38f3",
   "metadata": {},
   "source": []
  },
  {
   "cell_type": "code",
   "execution_count": null,
   "id": "aec1e083",
   "metadata": {
    "ExecuteTime": {
     "end_time": "2025-04-19T09:27:04.827452Z",
     "start_time": "2025-04-19T09:27:04.725139Z"
    }
   },
   "outputs": [],
   "source": [
    "plot_grid(vs_img)"
   ]
  },
  {
   "cell_type": "markdown",
   "id": "17192aae-cf00-4aa5-8d1e-dc259295bb16",
   "metadata": {},
   "source": [
    "Notice how the koala is preserved unlike before. Much better!"
   ]
  },
  {
   "cell_type": "markdown",
   "id": "c6317dbd-20a3-44ba-b46e-77757e45915a",
   "metadata": {},
   "source": [
    "#### Ask yourself\n",
    "\n",
    "Why are the seams different between the algorithms? What image artifact can consistently cause a greedy algorithm to consistently choose less optimal seams?"
   ]
  },
  {
   "cell_type": "markdown",
   "id": "bf66232e-eae0-489f-b407-d321dc386abc",
   "metadata": {},
   "source": [
    "### Bonus: Time Complexity (3 point)\n",
    "\n",
    "What is the time complexity of finding a seam in the greedy algorithm vs the dynamic programming algorithm?\n",
    "\n",
    "Let `w` and `h` be the width and height of the image, respectively."
   ]
  },
  {
   "cell_type": "markdown",
   "id": "0c2260ce-1b2c-4021-9198-a1443158da5c",
   "metadata": {},
   "source": [
    "```\n",
    "TODO (Bonus)\n",
    "\n",
    "Greedy - O(h+w)\n",
    "We start by finiding the minimum energy seam in the first row, which takes O(w) time.\n",
    "Then, for each row, we find the minimum energy seam by checking the three pixels above\n",
    "it, which takes O(3) time. Since we do this for h rows, the total time complexity is O(h+w).\n",
    "\n",
    "DP - O(h*w)\n",
    "The dynamic programming algorithm calculates the energy matrix and the cost matrix, which\n",
    "takes O(h*w) time. Then, it finds the minimum seam by iterating through the cost matrix,\n",
    "which takes O(w) time. Therefore, the total time complexity is O(h*w).\n",
    "```"
   ]
  },
  {
   "cell_type": "markdown",
   "id": "1f8fe266-2c95-4d8c-8080-016f2dc11c6a",
   "metadata": {},
   "source": [
    "Do your runtimes match the complexities? If not, can you think of a reason why?"
   ]
  },
  {
   "cell_type": "code",
   "execution_count": null,
   "id": "3151c549",
   "metadata": {
    "ExecuteTime": {
     "end_time": "2025-04-19T09:27:05.649911Z",
     "start_time": "2025-04-19T09:27:04.828021Z"
    }
   },
   "outputs": [],
   "source": [
    "vs_img.reinit()\n",
    "try:\n",
    "    vs_img.seams_addition_vertical(50)\n",
    "except NotImplementedError as e:\n",
    "    print(e)"
   ]
  },
  {
   "cell_type": "markdown",
   "id": "46540329",
   "metadata": {},
   "source": [
    "### Bonus: Seam Carving for Image Enlarging (7 points)\n",
    "As discussed in the unit, a seam's \"importance\" can be also used to enlarge images bysimply duplicating the least important seam every time.\n",
    "\n",
    "Implement `SeamImage.seams_addition`:\n",
    "* You may use wrapper functions for vertical/horizontal (same as in the removal process)\n",
    "* Paint the added seams in green\n",
    "* To get full bonus credit, use the example image and plot the visualization after: i) adding 50 vertical seams. ii) adding 50 horizontal seams\n",
    "* For this part you can add the necessary cells bellow (for plotting)"
   ]
  },
  {
   "cell_type": "code",
   "execution_count": null,
   "id": "2f5c3258d20c841c",
   "metadata": {
    "ExecuteTime": {
     "end_time": "2025-04-19T09:27:06.889066Z",
     "start_time": "2025-04-19T09:27:05.650424Z"
    }
   },
   "outputs": [],
   "source": [
    "plot_grid(vs_img)\n",
    "vs_img.reinit()\n",
    "vs_img.seams_addition_horizontal(50)\n",
    "plot_grid(vs_img)"
   ]
  },
  {
   "cell_type": "markdown",
   "id": "2ea3fc71",
   "metadata": {},
   "source": [
    "## Method Comparison and Recaling (10 points)\n",
    "\n",
    "In this final section you will be comparing the two methods with bilinear interpolation (a rescaling algorithm, implemented for you)."
   ]
  },
  {
   "cell_type": "code",
   "execution_count": null,
   "id": "79c394e2",
   "metadata": {
    "ExecuteTime": {
     "end_time": "2025-04-19T09:27:06.899265Z",
     "start_time": "2025-04-19T09:27:06.890471Z"
    }
   },
   "outputs": [],
   "source": [
    "from utils import bilinear\n",
    "\n",
    "scale_factors = [[.6, 1.], [1., .6]] # -> scale_factors[i,0] for height and scale_factors[i,1] for width"
   ]
  },
  {
   "cell_type": "code",
   "execution_count": null,
   "id": "ddc52764",
   "metadata": {
    "ExecuteTime": {
     "end_time": "2025-04-19T09:27:06.944693Z",
     "start_time": "2025-04-19T09:27:06.900020Z"
    }
   },
   "outputs": [],
   "source": [
    "img_path = 'images/palawan2.jpg'\n",
    "\n",
    "img = read_image(img_path)\n",
    "print(img.shape)\n",
    "show_image(img.astype('int'));"
   ]
  },
  {
   "cell_type": "code",
   "execution_count": null,
   "id": "75e8f9e0",
   "metadata": {
    "ExecuteTime": {
     "end_time": "2025-04-19T09:27:06.954469Z",
     "start_time": "2025-04-19T09:27:06.946360Z"
    }
   },
   "outputs": [],
   "source": [
    "aspect_ratio = img.shape[1] / img.shape[0] # -> claculate the image AR\n",
    "print('Aspect ratio:', aspect_ratio)"
   ]
  },
  {
   "attachments": {},
   "cell_type": "markdown",
   "id": "a461a824",
   "metadata": {},
   "source": [
    "##### TODO: Implement `scale_to_shape` and `resize_seam_carving` (5 + 5 points)\n",
    "* `scale_to_shape` takes an image shape (y,x) and $f_y,f_x$ scale factors and returns the new image shape.\n",
    "* `resize_seam_carving` takes a SeamImage instance along with the new shape and applies the resize."
   ]
  },
  {
   "cell_type": "code",
   "execution_count": null,
   "id": "50a394a1",
   "metadata": {
    "ExecuteTime": {
     "end_time": "2025-04-19T09:27:14.821970Z",
     "start_time": "2025-04-19T09:27:06.955077Z"
    }
   },
   "outputs": [],
   "source": [
    "data = {}\n",
    "vs_img = DPSeamImage(img_path)\n",
    "\n",
    "for s in scale_factors:\n",
    "    orig_shape = np.asarray(img.shape[:-1])\n",
    "    new_shape = scale_to_shape(orig_shape, s)\n",
    "    bi_resized_rgb = bilinear(img, new_shape)\n",
    "    vs_resized_rgb = resize_seam_carving(vs_img, (orig_shape, new_shape))\n",
    "    data[str(s)] = (bi_resized_rgb, vs_resized_rgb)"
   ]
  },
  {
   "cell_type": "code",
   "execution_count": null,
   "id": "65c9912a",
   "metadata": {
    "ExecuteTime": {
     "end_time": "2025-04-19T09:27:15.094157Z",
     "start_time": "2025-04-19T09:27:14.822538Z"
    }
   },
   "outputs": [],
   "source": [
    "# Results comparison\n",
    "\n",
    "ax, font_size = init_plt_grid(3, 2, figsize=(20,15))\n",
    "\n",
    "\n",
    "ax[0,0].set_title(f'Scale Factor {scale_factors[0]}', **font_size)\n",
    "ax[0,1].set_title(f'Scale Factor {scale_factors[1]}', **font_size)\n",
    "\n",
    "ax[0,0].set_ylabel('Original', **font_size)\n",
    "ax[1,0].set_ylabel('Bilinear Interp.', **font_size)\n",
    "ax[2,0].set_ylabel('SC', **font_size)\n",
    "\n",
    "\n",
    "ax[0,0].imshow(img.astype('uint'))\n",
    "ax[1,0].imshow(data[str(scale_factors[0])][0])\n",
    "ax[2,0].imshow(data[str(scale_factors[0])][1])\n",
    "\n",
    "ax[0,1].imshow(img.astype('uint'))\n",
    "ax[1,1].imshow(data[str(scale_factors[1])][0])\n",
    "ax[2,1].imshow(data[str(scale_factors[1])][1])\n",
    "\n",
    "\n",
    "for sp in ax.reshape(-1):\n",
    "    sp.set_xticks([])\n",
    "    sp.set_yticks([])\n",
    "\n",
    "plt.tight_layout()\n"
   ]
  },
  {
   "attachments": {},
   "cell_type": "markdown",
   "id": "fc21eb64",
   "metadata": {},
   "source": [
    "### Discussion and Conclusion\n",
    "\n",
    "##### Discussion\n",
    "* DP matrices: pay attention to the DP matrices you calculated. They should give an intuition of the correctness of your implemetions.\n",
    "* Seam Visualization: There are two noticible phenomenons when looking at them: i) Some seams might be corrupted (side to side). Why is it? which type of seams is it likely to occur? ii) The chosen seams tend to avoid \"important\" content.\n",
    "* Greedy vs DP: greedy is much faster, as it does not need to check the entire image for every seam. It makes a decision row-by-row, as opposed to DP which has to create a matrix covering the whole image. However, it comes at a trade-off of rescaling quality, as greedy may create less-optimal seams when it encounters a local minimum. The DP algorithm enables to take the less optimal paths early on, only if it makes an overall better seam.\n",
    "* Rescaling and resizing: It can be seen that Resizing images preserves geometry of objects, which emphasizes the adavantages of the content-awareness of Seam Carving. On the other hand, rescaling modifies existing image pixels and thus might affect its content.\n",
    "\n",
    "##### Conclusion\n",
    "* We have implemented two applications of the Seam Carving algorithms\n",
    "* We have compared Seam Carving to some content-aware methods and discussed their pros/cons\n",
    "* This implementation can be extended into some possible directions:\n",
    "    * Removing objects while keeping the same image size\n",
    "    * Adding objects into images\n",
    "    \n",
    "**Good Luck!**\n"
   ]
  }
 ],
 "metadata": {
  "kernelspec": {
   "display_name": "Python 3 (ipykernel)",
   "language": "python",
   "name": "python3"
  },
  "language_info": {
   "codemirror_mode": {
    "name": "ipython",
    "version": 3
   },
   "file_extension": ".py",
   "mimetype": "text/x-python",
   "name": "python",
   "nbconvert_exporter": "python",
   "pygments_lexer": "ipython3",
   "version": "3.8.10"
  },
  "vscode": {
   "interpreter": {
    "hash": "cb828da50222ff93d30a68bfefad70e4f83780e250dd9723bf01dd54fa865d46"
   }
  }
 },
 "nbformat": 4,
 "nbformat_minor": 5
}
